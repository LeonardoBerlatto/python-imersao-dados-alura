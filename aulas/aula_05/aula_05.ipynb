{
 "nbformat": 4,
 "nbformat_minor": 0,
 "metadata": {
  "colab": {
   "name": "Quinta_Aula.ipynb",
   "provenance": [],
   "authorship_tag": "ABX9TyM5RvS1QgjuLWeHAgf7mKvn"
  },
  "kernelspec": {
   "name": "python3",
   "display_name": "Python 3"
  }
 },
 "cells": [
  {
   "cell_type": "markdown",
   "metadata": {
    "id": "R_0tRnEW8A0G"
   },
   "source": [
    "## Bibliotecas"
   ]
  },
  {
   "cell_type": "code",
   "metadata": {
    "id": "H5x-gX1z7ANL",
    "executionInfo": {
     "status": "ok",
     "timestamp": 1605396130030,
     "user_tz": 180,
     "elapsed": 1892,
     "user": {
      "displayName": "Leonardo Berlatto",
      "photoUrl": "https://lh3.googleusercontent.com/a-/AOh14Gi7_iYfEAFrjbswMgM2cCBGBhWc9NAiZD_yRvQV9g=s64",
      "userId": "02376734719619948317"
     }
    }
   },
   "source": [
    "import pandas\n",
    "import matplotlib.pyplot as plot\n",
    "import seaborn as sns\n",
    "import numpy\n",
    "import sklearn"
   ],
   "execution_count": 1,
   "outputs": []
  },
  {
   "cell_type": "markdown",
   "metadata": {
    "id": "tle9KCB9A0AO"
   },
   "source": [
    "## Lendo os Dados"
   ]
  },
  {
   "cell_type": "code",
   "metadata": {
    "id": "Z_AWbWBCAi5U",
    "executionInfo": {
     "status": "ok",
     "timestamp": 1605396136157,
     "user_tz": 180,
     "elapsed": 5131,
     "user": {
      "displayName": "Leonardo Berlatto",
      "photoUrl": "https://lh3.googleusercontent.com/a-/AOh14Gi7_iYfEAFrjbswMgM2cCBGBhWc9NAiZD_yRvQV9g=s64",
      "userId": "02376734719619948317"
     }
    }
   },
   "source": [
    "dataset = pandas.read_csv('https://raw.githubusercontent.com/alura-cursos/imersao-dados-2-2020/master/MICRODADOS_ENEM_2019_SAMPLE_43278.csv')"
   ],
   "execution_count": 2,
   "outputs": []
  },
  {
   "cell_type": "markdown",
   "metadata": {
    "id": "30L9B22h9pfZ"
   },
   "source": [
    "### Variáveis importantes"
   ]
  },
  {
   "cell_type": "code",
   "metadata": {
    "id": "9riJ6s2X9ojv",
    "executionInfo": {
     "status": "ok",
     "timestamp": 1605396136159,
     "user_tz": 180,
     "elapsed": 5127,
     "user": {
      "displayName": "Leonardo Berlatto",
      "photoUrl": "https://lh3.googleusercontent.com/a-/AOh14Gi7_iYfEAFrjbswMgM2cCBGBhWc9NAiZD_yRvQV9g=s64",
      "userId": "02376734719619948317"
     }
    }
   },
   "source": [
    "tests = ['NU_NOTA_CN', 'NU_NOTA_CH', 'NU_NOTA_MT', 'NU_NOTA_LC','NU_NOTA_REDACAO']\n",
    "\n",
    "dataset['NU_NOTA_TOTAL'] = dataset[tests].sum(axis=1)\n",
    "\n",
    "students_without_zero_score = dataset.query('NU_NOTA_TOTAL != 0')"
   ],
   "execution_count": 3,
   "outputs": []
  },
  {
   "cell_type": "markdown",
   "metadata": {
    "id": "m7F7d9AvMtKb"
   },
   "source": [
    "## Modelo de Previsão "
   ]
  },
  {
   "cell_type": "code",
   "metadata": {
    "id": "eI-QZ89lSI_S",
    "executionInfo": {
     "status": "ok",
     "timestamp": 1605396138004,
     "user_tz": 180,
     "elapsed": 995,
     "user": {
      "displayName": "Leonardo Berlatto",
      "photoUrl": "https://lh3.googleusercontent.com/a-/AOh14Gi7_iYfEAFrjbswMgM2cCBGBhWc9NAiZD_yRvQV9g=s64",
      "userId": "02376734719619948317"
     }
    },
    "outputId": "7158cbff-65f6-4dd2-dd41-bd5999d49e12",
    "colab": {
     "base_uri": "https://localhost:8080/"
    }
   },
   "source": [
    "# Varíaveis funcionais ou independentes (x)\n",
    "input_tests = ['NU_NOTA_CN', 'NU_NOTA_CH', 'NU_NOTA_LC','NU_NOTA_REDACAO']\n",
    "\n",
    "# Varíavel dependente (y)\n",
    "output_test = 'NU_NOTA_MT'\n",
    "\n",
    "# Removendo notas NaN\n",
    "students_without_zero_score = students_without_zero_score[tests].dropna()\n",
    "\n",
    "input_scores = students_without_zero_score[input_tests]\n",
    "output_score = students_without_zero_score[output_test]\n",
    "\n",
    "input_scores, output_score"
   ],
   "execution_count": 4,
   "outputs": [
    {
     "output_type": "execute_result",
     "data": {
      "text/plain": [
       "(        NU_NOTA_CN  NU_NOTA_CH  NU_NOTA_LC  NU_NOTA_REDACAO\n",
       " 0            435.6       512.3       488.6            420.0\n",
       " 2            423.2       499.1       441.0            560.0\n",
       " 3            426.2       578.1       551.5            500.0\n",
       " 4            516.5       571.3       511.2            780.0\n",
       " 5            559.6       618.7       607.5            900.0\n",
       " ...            ...         ...         ...              ...\n",
       " 127373       480.4       501.5       485.3            520.0\n",
       " 127375       502.4       559.6       525.7            740.0\n",
       " 127376       449.1       380.9       450.3            520.0\n",
       " 127378       564.7       416.2       517.3            620.0\n",
       " 127379       466.7       425.5       477.1            480.0\n",
       " \n",
       " [92537 rows x 4 columns], 0         432.4\n",
       " 2         427.2\n",
       " 3         499.9\n",
       " 4         424.5\n",
       " 5         615.6\n",
       "           ...  \n",
       " 127373    386.7\n",
       " 127375    539.7\n",
       " 127376    418.2\n",
       " 127378    455.7\n",
       " 127379    438.5\n",
       " Name: NU_NOTA_MT, Length: 92537, dtype: float64)"
      ]
     },
     "metadata": {
      "tags": []
     },
     "execution_count": 4
    }
   ]
  },
  {
   "cell_type": "code",
   "metadata": {
    "id": "heiI_fYYg1BF",
    "executionInfo": {
     "status": "ok",
     "timestamp": 1605396138005,
     "user_tz": 180,
     "elapsed": 991,
     "user": {
      "displayName": "Leonardo Berlatto",
      "photoUrl": "https://lh3.googleusercontent.com/a-/AOh14Gi7_iYfEAFrjbswMgM2cCBGBhWc9NAiZD_yRvQV9g=s64",
      "userId": "02376734719619948317"
     }
    }
   },
   "source": [
    "# Nomenclatura padrão\n",
    "x = input_scores\n",
    "y = output_score"
   ],
   "execution_count": 5,
   "outputs": []
  },
  {
   "cell_type": "code",
   "metadata": {
    "id": "IoBErYIHhCjz",
    "executionInfo": {
     "status": "ok",
     "timestamp": 1605396138005,
     "user_tz": 180,
     "elapsed": 986,
     "user": {
      "displayName": "Leonardo Berlatto",
      "photoUrl": "https://lh3.googleusercontent.com/a-/AOh14Gi7_iYfEAFrjbswMgM2cCBGBhWc9NAiZD_yRvQV9g=s64",
      "userId": "02376734719619948317"
     }
    },
    "outputId": "0af7ea13-db47-4815-d2c2-16cdfc897bd6",
    "colab": {
     "base_uri": "https://localhost:8080/"
    }
   },
   "source": [
    "from sklearn.model_selection import train_test_split\n",
    "\n",
    "# Número aleatório para selecionar sempre os mesmos dados\n",
    "SEED = 1313\n",
    "\n",
    "x_train, x_test, y_train, y_test = train_test_split(x, \n",
    "                                                    y, \n",
    "                                                    test_size=0.25)\n",
    "\n",
    "\n",
    "print(f\"Notas no total: {len(x)} | Notas de treino: {len(x_train)} | Notas de teste: {len(x_test)}\")"
   ],
   "execution_count": 6,
   "outputs": [
    {
     "output_type": "stream",
     "text": [
      "Notas no total: 92537 | Notas de treino: 69402 | Notas de teste: 23135\n"
     ],
     "name": "stdout"
    }
   ]
  },
  {
   "cell_type": "code",
   "metadata": {
    "id": "gPQlYLCekCk7",
    "executionInfo": {
     "status": "ok",
     "timestamp": 1605396151781,
     "user_tz": 180,
     "elapsed": 14757,
     "user": {
      "displayName": "Leonardo Berlatto",
      "photoUrl": "https://lh3.googleusercontent.com/a-/AOh14Gi7_iYfEAFrjbswMgM2cCBGBhWc9NAiZD_yRvQV9g=s64",
      "userId": "02376734719619948317"
     }
    },
    "outputId": "2e765065-fed5-4142-92f5-74069afa0846",
    "colab": {
     "base_uri": "https://localhost:8080/"
    }
   },
   "source": [
    "from sklearn.svm import LinearSVR\n",
    "\n",
    "model = LinearSVR(random_state = SEED)\n",
    "\n",
    "model.fit(x_train, y_train)\n",
    "math_predictions = model.predict(x_test)\n",
    "\n"
   ],
   "execution_count": 7,
   "outputs": [
    {
     "output_type": "stream",
     "text": [
      "/usr/local/lib/python3.6/dist-packages/sklearn/svm/_base.py:947: ConvergenceWarning: Liblinear failed to converge, increase the number of iterations.\n",
      "  \"the number of iterations.\", ConvergenceWarning)\n"
     ],
     "name": "stderr"
    }
   ]
  },
  {
   "cell_type": "code",
   "metadata": {
    "id": "ayeRdSB9NXpB",
    "executionInfo": {
     "status": "ok",
     "timestamp": 1605396151782,
     "user_tz": 180,
     "elapsed": 14753,
     "user": {
      "displayName": "Leonardo Berlatto",
      "photoUrl": "https://lh3.googleusercontent.com/a-/AOh14Gi7_iYfEAFrjbswMgM2cCBGBhWc9NAiZD_yRvQV9g=s64",
      "userId": "02376734719619948317"
     }
    },
    "outputId": "11a62af5-9074-43fd-e81f-08fb0016d25e",
    "colab": {
     "base_uri": "https://localhost:8080/"
    }
   },
   "source": [
    "from sklearn.metrics import mean_squared_error\n",
    "\n",
    "mean_squared_error(y_test, math_predictions)"
   ],
   "execution_count": 8,
   "outputs": [
    {
     "output_type": "execute_result",
     "data": {
      "text/plain": [
       "7225.609540617956"
      ]
     },
     "metadata": {
      "tags": []
     },
     "execution_count": 8
    }
   ]
  },
  {
   "cell_type": "markdown",
   "metadata": {
    "id": "lP4Hs5yZNFOV"
   },
   "source": [
    "## Insights da Aula"
   ]
  },
  {
   "cell_type": "markdown",
   "metadata": {
    "id": "TgGdEyssTanB"
   },
   "source": [
    "### Predição com Decision Tree"
   ]
  },
  {
   "cell_type": "code",
   "metadata": {
    "id": "3BCUVpSJN5wd",
    "executionInfo": {
     "status": "ok",
     "timestamp": 1605396219193,
     "user_tz": 180,
     "elapsed": 1042,
     "user": {
      "displayName": "Leonardo Berlatto",
      "photoUrl": "https://lh3.googleusercontent.com/a-/AOh14Gi7_iYfEAFrjbswMgM2cCBGBhWc9NAiZD_yRvQV9g=s64",
      "userId": "02376734719619948317"
     }
    },
    "outputId": "e8112b36-f921-4d5b-c708-af7a8d7cbad4",
    "colab": {
     "base_uri": "https://localhost:8080/"
    }
   },
   "source": [
    "from sklearn.tree import DecisionTreeRegressor\n",
    "\n",
    "\n",
    "x_train, x_test, y_train, y_test = train_test_split(x, \n",
    "                                                    y, \n",
    "                                                    test_size=0.25)\n",
    "\n",
    "\n",
    "tree_model = DecisionTreeRegressor(max_depth = 3)\n",
    "tree_model.fit(x_train, y_train)\n",
    "tree_model_math_predictions = tree_model.predict(x_test)\n",
    "mean_squared_error(y_test, tree_model_math_predictions)"
   ],
   "execution_count": 9,
   "outputs": [
    {
     "output_type": "execute_result",
     "data": {
      "text/plain": [
       "6028.130241332906"
      ]
     },
     "metadata": {
      "tags": []
     },
     "execution_count": 9
    }
   ]
  },
  {
   "cell_type": "code",
   "metadata": {
    "id": "TeLBtJ8sVwPA",
    "executionInfo": {
     "status": "ok",
     "timestamp": 1605396221749,
     "user_tz": 180,
     "elapsed": 3587,
     "user": {
      "displayName": "Leonardo Berlatto",
      "photoUrl": "https://lh3.googleusercontent.com/a-/AOh14Gi7_iYfEAFrjbswMgM2cCBGBhWc9NAiZD_yRvQV9g=s64",
      "userId": "02376734719619948317"
     }
    },
    "outputId": "e0333e85-23ee-408c-928d-a66e05af2d4a",
    "colab": {
     "base_uri": "https://localhost:8080/"
    }
   },
   "source": [
    "from sklearn.model_selection import cross_validate\n",
    "from sklearn.model_selection import KFold\n",
    "\n",
    "number_of_splits = KFold(n_splits=10, shuffle=True)\n",
    "\n",
    "tree_model = DecisionTreeRegressor(max_depth = 5)\n",
    "\n",
    "result = cross_validate(tree_model, x, y, cv=number_of_splits, scoring='neg_mean_squared_error') # retorno negativo, pois quanto maior, melhor\n",
    "\n",
    "absolute_results = result['test_score'] * -1\n",
    "\n",
    "score_mean = absolute_results.mean()\n",
    "print(score_mean)"
   ],
   "execution_count": 10,
   "outputs": [
    {
     "output_type": "stream",
     "text": [
      "5680.679906954913\n"
     ],
     "name": "stdout"
    }
   ]
  },
  {
   "cell_type": "markdown",
   "metadata": {
    "id": "WPaZvI8caJ7u"
   },
   "source": [
    "### Desvio padrão e Intervalo de Confiança do Model"
   ]
  },
  {
   "cell_type": "code",
   "metadata": {
    "id": "uqnzCi6rdytP",
    "executionInfo": {
     "status": "ok",
     "timestamp": 1605396221750,
     "user_tz": 180,
     "elapsed": 3583,
     "user": {
      "displayName": "Leonardo Berlatto",
      "photoUrl": "https://lh3.googleusercontent.com/a-/AOh14Gi7_iYfEAFrjbswMgM2cCBGBhWc9NAiZD_yRvQV9g=s64",
      "userId": "02376734719619948317"
     }
    }
   },
   "source": [
    "from scipy import stats\n",
    "\n",
    "def print_confidence_interval(results):\n",
    "  absolute_results = results['test_score'] * -1\n",
    "  score_mean = absolute_results.mean()\n",
    "  results_standard_deviation = absolute_results.std()\n",
    "\n",
    "  lower_limit, upper_limit = stats.norm.interval(0.95, loc=score_mean, scale=results_standard_deviation)\n",
    "\n",
    "  print(f'Intervalo de confiança obtido no modelo: {lower_limit} - {upper_limit}')"
   ],
   "execution_count": 11,
   "outputs": []
  },
  {
   "cell_type": "code",
   "metadata": {
    "id": "-rLk-GE5aJFk",
    "executionInfo": {
     "status": "ok",
     "timestamp": 1605396221750,
     "user_tz": 180,
     "elapsed": 3579,
     "user": {
      "displayName": "Leonardo Berlatto",
      "photoUrl": "https://lh3.googleusercontent.com/a-/AOh14Gi7_iYfEAFrjbswMgM2cCBGBhWc9NAiZD_yRvQV9g=s64",
      "userId": "02376734719619948317"
     }
    },
    "outputId": "ec594784-e9a4-497c-d2ab-59fe0d65db1d",
    "colab": {
     "base_uri": "https://localhost:8080/"
    }
   },
   "source": [
    "print_confidence_interval(result)"
   ],
   "execution_count": 12,
   "outputs": [
    {
     "output_type": "stream",
     "text": [
      "Intervalo de confiança obtido no modelo: 5496.263192928652 - 5865.096620981175\n"
     ],
     "name": "stdout"
    }
   ]
  }
 ]
}